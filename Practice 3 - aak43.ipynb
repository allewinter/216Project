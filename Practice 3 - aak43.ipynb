{
 "cells": [
  {
   "cell_type": "markdown",
   "metadata": {},
   "source": [
    "# Practice 3"
   ]
  },
  {
   "cell_type": "markdown",
   "metadata": {},
   "source": [
    "In this exercise, you will practice wrangling data through different formats, with missing data, and working with text.\n",
    "\n",
    "You can either print answers directly from your code or write them in the markdown cells below your code. Either way, make sure that your answers are visible and can be easily read in the final notebook you turn in."
   ]
  },
  {
   "cell_type": "markdown",
   "metadata": {},
   "source": [
    "## Part 1: Text wrangling and regular expressions "
   ]
  },
  {
   "cell_type": "markdown",
   "metadata": {},
   "source": [
    "### Question 1 (3 points)\n",
    "Below we import the `text.txt` file as a string called `text` and preview the first 1,000 characters. Note that the text has no capitalization at the beginning of sentences."
   ]
  },
  {
   "cell_type": "code",
   "execution_count": null,
   "metadata": {},
   "outputs": [],
   "source": [
    "# Run but do not modify this code\n",
    "with open(\"text.txt\") as f:\n",
    "    text = f.read()\n",
    "\n",
    "print(text[:1000])"
   ]
  },
  {
   "cell_type": "markdown",
   "metadata": {},
   "source": [
    "Capitalize the first letter of each sentence (e.g., \"it was the best...\" should become \"It was the best...\"). To do so, split the sentences (you may assume sentences are ended with the a period `.` followed by a blank space), capitalize the first letter of each sentence, and then join the results.\n",
    "\n",
    "When you finish, print the first 1,000 characters. You do not need to write anything else in your answer."
   ]
  },
  {
   "cell_type": "code",
   "execution_count": null,
   "metadata": {},
   "outputs": [],
   "source": [
    "sentences = text.split('. ')\n",
    "for i in range(len(sentences)): \n",
    "    sentences[i] = sentences[i][0].upper() + sentences[i][1:]\n",
    "res = '. '.join(sentences)\n",
    "print(res[:1000])"
   ]
  },
  {
   "cell_type": "markdown",
   "metadata": {},
   "source": [
    "### Question 2 (4 points)\n",
    "Below we import the `corrupted_text.txt` file, a messed up version of `text.txt`, and print the first 1,000 characters."
   ]
  },
  {
   "cell_type": "code",
   "execution_count": null,
   "metadata": {},
   "outputs": [],
   "source": [
    "# Run but do not modify this code\n",
    "with open(\"corrupted_text.txt\") as f:\n",
    "    ctext = f.read()\n",
    "\n",
    "print(ctext[:1000])"
   ]
  },
  {
   "cell_type": "markdown",
   "metadata": {},
   "source": [
    "Fix the following problems to recover the original text that appeared in `text.txt`.\n",
    "\n",
    "1. Every comma `,` has been replaced by `$`. Sometimes, but not always, this is followed by `####`. When it is followed by `####`, there are different numbers of blank spaces after the `####`.\n",
    "2. Every period `.` has been replaced by `$\\n\\n`.\n",
    "\n",
    "When you are finished, print the first 1,000 characters. You should see the same text as in `text.txt` above (except without the capitalization you worked on in the previous problem).  You do not need to write anything else in your answer.\n",
    "\n",
    "Note: It may be helpful to recall that `\\` is an escape character for Python strings, so for example, while calling `print(\"\\n\")` will simply print a blank newline character, calling `print(\"\\\\n\")` will \"escape\" the usual meaning of the second backslash and print `\\n`."
   ]
  },
  {
   "cell_type": "code",
   "execution_count": null,
   "metadata": {},
   "outputs": [],
   "source": [
    "import re\n",
    "fix_period = re.sub(r'\\$\\\\n\\\\n', '.', ctext)\n",
    "fix_comma = re.sub(r'\\$#*\\s+', ', ', fix_period)\n",
    "print(fix_comma[:1000])\n"
   ]
  },
  {
   "cell_type": "markdown",
   "metadata": {},
   "source": [
    "### Question 3 (8 points)\n",
    "Below, we again import the `text.txt` file as a new string variable `ftext` (for \"fresh\" text if that helps)."
   ]
  },
  {
   "cell_type": "code",
   "execution_count": null,
   "metadata": {},
   "outputs": [],
   "source": [
    "# Run but do not modify this code\n",
    "import re # Regular expression library\n",
    "with open(\"text.txt\") as f:\n",
    "    ftext = f.read()"
   ]
  },
  {
   "cell_type": "markdown",
   "metadata": {},
   "source": [
    "Write regular expressions and use the Python `re` module [documentation](https://docs.python.org/3/library/re.html) to answer the following questions about the file. You may assume that all characters are lowercase. You can print your answers directly from code (as long as they are clearly labeled) or you can write them in the markdown cell below.\n",
    "\n",
    "1. How many times do two vowels (a, e, i, o, and u) appear consecutively in `text`? When three vowels occur consecutively (such as in \"queen\") you only need to count once, (for example, in \"queen\" you do not need to worry about the overlap between \"ue\" and \"ee\", just count once). \n",
    "2. Print all of the hyphenated words in `text` (that is, the words with a hyphen character `-` in the middle and no spaces between the hyphen and the characters on either side). \n",
    "3. Print the first word that appears after each period character `.` in the text. Do not include the period itself or the space that follows it.\n",
    "4. Print the starting index of every word `she` or `he`. Do not include words that enclose these such as `the` or `fishes` (Hint: It appears only 3 times)."
   ]
  },
  {
   "cell_type": "code",
   "execution_count": null,
   "metadata": {},
   "outputs": [],
   "source": [
    "# Put your code to answer the question here\n",
    "query = re.compile(r\"[aeiou][aeiou][aeiou]\")\n",
    "re.findall(query, ftext)\n",
    "\n",
    "#1\n",
    "query_one = re.compile(r\"[aeiou]{2,}\")\n",
    "print(\"Number One: \")\n",
    "print(len(re.findall(query_one, ftext)))\n",
    "\n",
    "#2\n",
    "query_two = re.compile(r\"\\w*\\-\\w*\")\n",
    "print(\"Number Two: \")\n",
    "print(\"Hyphenated words: \" + str(re.findall(query_two, ftext)))\n",
    "\n",
    "#3\n",
    "query_three = re.compile(r\"\\. (\\S+)\")\n",
    "print(\"Number Three: \")\n",
    "print(\"First word after each period: \" + str(re.findall(query_three, ftext)))\n",
    "\n",
    "#4\n",
    "query_four = re.compile(r\"\\bshe\\b|\\bhe\\b\")\n",
    "matches = re.finditer(query_four, ftext)\n",
    "for match in matches: \n",
    "    start = match.start()\n",
    "    ending = match.end()\n",
    "    print(ftext[start:ending] + \" starts at index: \" + str(start))"
   ]
  },
  {
   "cell_type": "markdown",
   "metadata": {},
   "source": [
    "### Answer 3\n",
    "Write your answer here if not printed above "
   ]
  },
  {
   "cell_type": "markdown",
   "metadata": {},
   "source": [
    "## Part 2: Cleaning up system logs CSV\n",
    "In this part we work with a piece of messy tabular data in the form of a poorly formatted csv file containing data about programs running on computer systems. "
   ]
  },
  {
   "cell_type": "markdown",
   "metadata": {},
   "source": [
    "### Question 4 (6 points)\n",
    "Below, we import the dataset using the Pandas `read_csv` function that creates a dataframe. Run the code; it will preview the first five rows. There are several formatting issues with the default import."
   ]
  },
  {
   "cell_type": "code",
   "execution_count": 1,
   "metadata": {},
   "outputs": [
    {
     "data": {
      "text/html": [
       "<div>\n",
       "<style scoped>\n",
       "    .dataframe tbody tr th:only-of-type {\n",
       "        vertical-align: middle;\n",
       "    }\n",
       "\n",
       "    .dataframe tbody tr th {\n",
       "        vertical-align: top;\n",
       "    }\n",
       "\n",
       "    .dataframe thead th {\n",
       "        text-align: right;\n",
       "    }\n",
       "</style>\n",
       "<table border=\"1\" class=\"dataframe\">\n",
       "  <thead>\n",
       "    <tr style=\"text-align: right;\">\n",
       "      <th></th>\n",
       "      <th>0</th>\n",
       "      <th>System Time: 23 second</th>\n",
       "      <th>System Mem: 3 Gb</th>\n",
       "      <th>414 Mb</th>\n",
       "      <th></th>\n",
       "    </tr>\n",
       "  </thead>\n",
       "  <tbody>\n",
       "    <tr>\n",
       "      <th>0</th>\n",
       "      <td>1</td>\n",
       "      <td>System Time: 40 second</td>\n",
       "      <td>System Mem: 3 Gb</td>\n",
       "      <td>382 Mb</td>\n",
       "      <td></td>\n",
       "    </tr>\n",
       "    <tr>\n",
       "      <th>1</th>\n",
       "      <td>2</td>\n",
       "      <td>System Time: 43 second</td>\n",
       "      <td>System Mem: 2 Gb</td>\n",
       "      <td>271 Mb</td>\n",
       "      <td></td>\n",
       "    </tr>\n",
       "    <tr>\n",
       "      <th>2</th>\n",
       "      <td>3</td>\n",
       "      <td>System Time: 31 second</td>\n",
       "      <td>System Mem: 3 Gb</td>\n",
       "      <td>493 Mb</td>\n",
       "      <td></td>\n",
       "    </tr>\n",
       "    <tr>\n",
       "      <th>3</th>\n",
       "      <td>4</td>\n",
       "      <td>System Time: 37 second</td>\n",
       "      <td>System Mem: 3 Gb</td>\n",
       "      <td>411 Mb</td>\n",
       "      <td></td>\n",
       "    </tr>\n",
       "    <tr>\n",
       "      <th>4</th>\n",
       "      <td>5</td>\n",
       "      <td>System Time: 36 second</td>\n",
       "      <td>System Mem: 2 Gb</td>\n",
       "      <td>266 Mb</td>\n",
       "      <td></td>\n",
       "    </tr>\n",
       "  </tbody>\n",
       "</table>\n",
       "</div>"
      ],
      "text/plain": [
       "   0  System Time: 23 second   System Mem: 3 Gb  414 Mb   \n",
       "0  1  System Time: 40 second   System Mem: 3 Gb  382 Mb   \n",
       "1  2  System Time: 43 second   System Mem: 2 Gb  271 Mb   \n",
       "2  3  System Time: 31 second   System Mem: 3 Gb  493 Mb   \n",
       "3  4  System Time: 37 second   System Mem: 3 Gb  411 Mb   \n",
       "4  5  System Time: 36 second   System Mem: 2 Gb  266 Mb   "
      ]
     },
     "execution_count": 1,
     "metadata": {},
     "output_type": "execute_result"
    }
   ],
   "source": [
    "# Run but do not modify this code\n",
    "import pandas as pd\n",
    "sys_df = pd.read_csv(\"monitor.csv\")\n",
    "sys_df.head()"
   ]
  },
  {
   "cell_type": "markdown",
   "metadata": {},
   "source": [
    "Address the following, either by changing the `read_csv` statement or by modifying the imported dataframe:\n",
    "\n",
    "1. The rows are already numbered with an integer index, but that is being duplicated so that we see a primary index for the dataframe and separately a column containing integer indices. Fix this so that there is just a single integer index as the primary index of the dataframe (bolded).\n",
    "2. There are commas at the end of every row causing the dataframe to add a blank extra column at the right. Get rid of this column.\n",
    "3. The file did not have column labels, so currently the first row is being incorrectly interpreted as the bolded column labels. Fix the code so that the column labels (from left to right) are `System Time second`, `System Memory GB`, and `System Memory MB`.\n",
    "\n",
    "When you are finished, `sys_df` should have the above issues correct. Again run `sys_df.head()` to show the first few rows of your dataframe. You do not need to write anything else in your answer."
   ]
  },
  {
   "cell_type": "code",
   "execution_count": 2,
   "metadata": {},
   "outputs": [
    {
     "data": {
      "text/html": [
       "<div>\n",
       "<style scoped>\n",
       "    .dataframe tbody tr th:only-of-type {\n",
       "        vertical-align: middle;\n",
       "    }\n",
       "\n",
       "    .dataframe tbody tr th {\n",
       "        vertical-align: top;\n",
       "    }\n",
       "\n",
       "    .dataframe thead th {\n",
       "        text-align: right;\n",
       "    }\n",
       "</style>\n",
       "<table border=\"1\" class=\"dataframe\">\n",
       "  <thead>\n",
       "    <tr style=\"text-align: right;\">\n",
       "      <th></th>\n",
       "      <th>System Time second</th>\n",
       "      <th>System Memory GB</th>\n",
       "      <th>System Memory MB</th>\n",
       "    </tr>\n",
       "  </thead>\n",
       "  <tbody>\n",
       "    <tr>\n",
       "      <th>0</th>\n",
       "      <td>System Time: 23 second</td>\n",
       "      <td>System Mem: 3 Gb</td>\n",
       "      <td>414 Mb</td>\n",
       "    </tr>\n",
       "    <tr>\n",
       "      <th>1</th>\n",
       "      <td>System Time: 40 second</td>\n",
       "      <td>System Mem: 3 Gb</td>\n",
       "      <td>382 Mb</td>\n",
       "    </tr>\n",
       "    <tr>\n",
       "      <th>2</th>\n",
       "      <td>System Time: 43 second</td>\n",
       "      <td>System Mem: 2 Gb</td>\n",
       "      <td>271 Mb</td>\n",
       "    </tr>\n",
       "    <tr>\n",
       "      <th>3</th>\n",
       "      <td>System Time: 31 second</td>\n",
       "      <td>System Mem: 3 Gb</td>\n",
       "      <td>493 Mb</td>\n",
       "    </tr>\n",
       "    <tr>\n",
       "      <th>4</th>\n",
       "      <td>System Time: 37 second</td>\n",
       "      <td>System Mem: 3 Gb</td>\n",
       "      <td>411 Mb</td>\n",
       "    </tr>\n",
       "    <tr>\n",
       "      <th>...</th>\n",
       "      <td>...</td>\n",
       "      <td>...</td>\n",
       "      <td>...</td>\n",
       "    </tr>\n",
       "    <tr>\n",
       "      <th>995</th>\n",
       "      <td>System Time: 31 minute</td>\n",
       "      <td>System Mem: 2 Gb</td>\n",
       "      <td>258 Mb</td>\n",
       "    </tr>\n",
       "    <tr>\n",
       "      <th>996</th>\n",
       "      <td>System Time: 31 minute</td>\n",
       "      <td>System Mem: 3 Gb</td>\n",
       "      <td>403 Mb</td>\n",
       "    </tr>\n",
       "    <tr>\n",
       "      <th>997</th>\n",
       "      <td>System Time: 36 minute</td>\n",
       "      <td>System Mem: 3 Gb</td>\n",
       "      <td>350 Mb</td>\n",
       "    </tr>\n",
       "    <tr>\n",
       "      <th>998</th>\n",
       "      <td>System Time: 44 minute</td>\n",
       "      <td>System Mem: 3 Gb</td>\n",
       "      <td>366 Mb</td>\n",
       "    </tr>\n",
       "    <tr>\n",
       "      <th>999</th>\n",
       "      <td>System Time: 20 minute</td>\n",
       "      <td>System Mem: 3 Gb</td>\n",
       "      <td>490 Mb</td>\n",
       "    </tr>\n",
       "  </tbody>\n",
       "</table>\n",
       "<p>1000 rows × 3 columns</p>\n",
       "</div>"
      ],
      "text/plain": [
       "         System Time second   System Memory GB System Memory MB\n",
       "0    System Time: 23 second   System Mem: 3 Gb           414 Mb\n",
       "1    System Time: 40 second   System Mem: 3 Gb           382 Mb\n",
       "2    System Time: 43 second   System Mem: 2 Gb           271 Mb\n",
       "3    System Time: 31 second   System Mem: 3 Gb           493 Mb\n",
       "4    System Time: 37 second   System Mem: 3 Gb           411 Mb\n",
       "..                      ...                ...              ...\n",
       "995  System Time: 31 minute   System Mem: 2 Gb           258 Mb\n",
       "996  System Time: 31 minute   System Mem: 3 Gb           403 Mb\n",
       "997  System Time: 36 minute   System Mem: 3 Gb           350 Mb\n",
       "998  System Time: 44 minute   System Mem: 3 Gb           366 Mb\n",
       "999  System Time: 20 minute   System Mem: 3 Gb           490 Mb\n",
       "\n",
       "[1000 rows x 3 columns]"
      ]
     },
     "execution_count": 2,
     "metadata": {},
     "output_type": "execute_result"
    }
   ],
   "source": [
    "# Put your code to answer the question here\n",
    "# You are welcome to use a new sys_df = pd.read_csv(...) statement\n",
    "\n",
    "#1\n",
    "\n",
    "del sys_df['0']\n",
    "\n",
    "#2\n",
    "# sys_df.head()\n",
    "sys_df.drop(sys_df.columns[len(sys_df.columns)-1], axis=1, inplace=True)\n",
    "\n",
    "#3\n",
    "new_row = pd.DataFrame({'System Time: 23 second':'System Time: 23 second', ' System Mem: 3 Gb':'System Mem: 3 Gb', '414 Mb':'414 Mb'}, index =[0]) \n",
    "sys_df = pd.concat([new_row, sys_df]).reset_index(drop = True) \n",
    "\n",
    "sys_df.rename(columns={\"System Time: 23 second\": \"System Time second\", \" System Mem: 3 Gb\": \"System Memory GB\", \"414 Mb\": \"System Memory MB\"})\n"
   ]
  },
  {
   "cell_type": "markdown",
   "metadata": {},
   "source": [
    "### Question 5 (6 points)\n",
    "The `sys_df` dataframe from question 3 should now be a little easier to read and use, but there are some strange things we would like to fix about the formatting of the data.\n",
    "\n",
    "1. The three features or columns all contain numeric data (seconds, GB, and MB) but are currently formatted as Strings with redundant information also contained in the column names. Fix the dataframe so that each value is just an integer. Note that the rows at index `400` and on have System Time recorded in minutes instead of seconds, be sure to convert these to seconds by mulitplying by 60.\n",
    "2. Currently the System Memory is split accross two columns, one for the GB and one for the MB. For example, the total memory of the first program is 3 GB and 414 MB. Instead, represent the full system memory in the `System Memory MB` column, and get rid of the `System Memory GB` column. To do so, you need to convert the values in the GB column to MB (1 GB is 1000 MB) and add that to the MB column, then use the [`drop` method](https://pandas.pydata.org/pandas-docs/stable/reference/api/pandas.DataFrame.drop.html) to remove the GB column.\n",
    "3. Now that you have dealt with the above, it should be easy to provide some basic statistics about the data. Report the mean time in seconds and mean memory in MB of the programs.\n",
    "\n",
    "When you are finished, again run `sys_df.head()` to show the first few rows of your dataframe, and print or report your answer to the third task."
   ]
  },
  {
   "cell_type": "code",
   "execution_count": null,
   "metadata": {},
   "outputs": [],
   "source": [
    "# Put your code to answer the question here"
   ]
  },
  {
   "cell_type": "markdown",
   "metadata": {},
   "source": [
    "### Answer 5\n",
    "Write your answer here if not printed above "
   ]
  },
  {
   "cell_type": "markdown",
   "metadata": {},
   "source": [
    "## Part 3: Wrangling FDA JSON Dataset \n",
    "In this part we work with a messy JSON dataset containing information about several drugs labels."
   ]
  },
  {
   "cell_type": "markdown",
   "metadata": {},
   "source": [
    "### Question 6 (6 points)\n",
    "Below we import the `FDADrugLabel.json` file into the `labels` variable.\n",
    "\n",
    "The resulting Python object is somewhat messy; we encourage you to explore the data before answering the questions. For example, rather than just printing out `labels` check it's type, print only one element, and remember there are different [dictionary functions](https://docs.python.org/3/library/stdtypes.html#typesmapping) you could use. Feel free to add your own cells as you explore."
   ]
  },
  {
   "cell_type": "code",
   "execution_count": null,
   "metadata": {},
   "outputs": [],
   "source": [
    "# Run but do not modify this code\n",
    "import json\n",
    "with open(\"FDADrugLabel.json\") as f:\n",
    "    labels = json.load(f)"
   ]
  },
  {
   "cell_type": "markdown",
   "metadata": {},
   "source": [
    "Answer the following questions.\n",
    "\n",
    "1. How many drugs are represented in the file?\n",
    "2. What is the largest number of key/value (or name/value) pairs for any drug in the file?\n",
    "3. The `effective_time` is recorded for each drug as a date in the format `yyyymmdd`, for example, June 1, 1992 would be recorded as `19920601`. What is the earliest recorded date?"
   ]
  },
  {
   "cell_type": "code",
   "execution_count": null,
   "metadata": {
    "scrolled": true
   },
   "outputs": [],
   "source": [
    "# Put your code to answer the question here"
   ]
  },
  {
   "cell_type": "markdown",
   "metadata": {},
   "source": [
    "### Answer 6\n",
    "Write your answer here if not printed above"
   ]
  },
  {
   "cell_type": "markdown",
   "metadata": {},
   "source": [
    "### Question 7 (6 points)\n",
    "\n",
    "Below we use the Pandas `read_json` function to import the `FDADrugLabel.json` file into a Pandas dataframe `label_df`."
   ]
  },
  {
   "cell_type": "code",
   "execution_count": null,
   "metadata": {
    "scrolled": true
   },
   "outputs": [],
   "source": [
    "# Run but do not modify this code\n",
    "import pandas as pd\n",
    "label_df = pd.read_json(\"FDADrugLabel.json\")\n",
    "label_df.head()"
   ]
  },
  {
   "cell_type": "markdown",
   "metadata": {},
   "source": [
    "Use the dataframe to answer the following questions. \n",
    "\n",
    "1. What happens if you call `label_df.dropna()` (with no optional parameters) to remove the null values? Why? \n",
    "2. Which of `label_df`'s columns contains data for every row? You might answer this using the `label_df.dropna()` method to keep all of the rows but remove any of the columns that have any missing data, but do not modify the `label_df` dataframe itself. \n",
    "3. Filter the dataframe to the rows that are missing data for `active_ingredient`, then show those rows (if `my_view` is a dataframe view you have computed by filtering the data, you can simply put `my_view` as the last line of a cell and run it to get a tabular rendering of the rows in Jupyter). You may find the Pandas `isnull` method useful, you can see it's [documentation here](https://pandas.pydata.org/pandas-docs/stable/reference/api/pandas.isnull.html)."
   ]
  },
  {
   "cell_type": "code",
   "execution_count": null,
   "metadata": {},
   "outputs": [],
   "source": [
    "# Put your code to answer the question here"
   ]
  },
  {
   "cell_type": "markdown",
   "metadata": {},
   "source": [
    "### Answer 7\n",
    "Write your answer here if not printed above\n",
    "\n",
    "For item 1, calling `label_df.dropna()` returns a dataframe with no rows, i.e., with all of the data removed. This happens because the default is for `dropna()` to drop every *row* containing *any* missing data, and each row in the `label_df` dataframe has at least one piece of missing data."
   ]
  }
 ],
 "metadata": {
  "kernelspec": {
   "display_name": "Python 3",
   "language": "python",
   "name": "python3"
  },
  "language_info": {
   "codemirror_mode": {
    "name": "ipython",
    "version": 3
   },
   "file_extension": ".py",
   "mimetype": "text/x-python",
   "name": "python",
   "nbconvert_exporter": "python",
   "pygments_lexer": "ipython3",
   "version": "3.8.5"
  }
 },
 "nbformat": 4,
 "nbformat_minor": 4
}

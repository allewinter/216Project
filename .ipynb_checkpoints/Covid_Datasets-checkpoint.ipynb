{
 "cells": [
  {
   "cell_type": "code",
   "execution_count": 14,
   "metadata": {},
   "outputs": [
    {
     "name": "stdout",
     "output_type": "stream",
     "text": [
      "     Entity         Day  people_vaccinated_per_hundred\n",
      "0   Alabama  2021-01-12                           1.45\n",
      "1   Alabama  2021-01-13                           1.53\n",
      "2   Alabama  2021-01-14                           1.64\n",
      "3   Alabama  2021-01-15                           1.77\n",
      "4   Alabama  2021-01-19                           2.33\n",
      "..      ...         ...                            ...\n",
      "80  Alabama  2021-04-06                          25.86\n",
      "81  Alabama  2021-04-07                          26.34\n",
      "82  Alabama  2021-04-08                          26.88\n",
      "83  Alabama  2021-04-09                          27.42\n",
      "84  Alabama  2021-04-10                          27.97\n",
      "\n",
      "[85 rows x 3 columns]\n"
     ]
    }
   ],
   "source": [
    "import pandas as pd\n",
    "sys_df = pd.read_csv(\"us-covid-19-share-people-vaccinated.csv\")\n",
    "unwanted_regions = [\"American Samoa\", \"Federated States of Micronesia\", \"Guam\", \"Indian Health Svc\", \"Marshall Islands\", \"Northern Mariana Islands\", \"Puerto Rico\", \"Republic of Palau\", \"Virgin Islands\"]\n",
    "clean_df = sys_df[sys_df['Entity'].isin(unwanted_regions) == False]\n",
    "clean_df.head()\n",
    "# I am thinking to first plot all 50 states for their percentage of people vaccinated over time using existing data only\n",
    "# Once I have the trajectory prediction model working then we can redo this plot except with new data that reaches to August or September\n",
    "#In order to do a national cumulative, we will need to multiply every entry by the respective state population then divide by 100.\n",
    "\n",
    "alabama_df = clean_df.loc[clean_df['Entity'] == 'Alabama']\n",
    "del alabama_df['Code']\n",
    "print(alabama_df)\n",
    "\n",
    "# national_percentage = new_df.groupby('Day').mean()\n",
    "\n",
    "# print(national_percentage)\n",
    "# April 8th = April 7th cumulative + average over 2 weeks of daily increase\n",
    "# CI with smallest and largest increment\n",
    "\n",
    "# case_df = pd.read_csv(\"United_States_COVID-19_Cases_and_Deaths_by_State_over_Time.csv\")\n",
    "# case_df.loc[case_df['state'] == 'MT']"
   ]
  },
  {
   "cell_type": "code",
   "execution_count": null,
   "metadata": {},
   "outputs": [],
   "source": []
  }
 ],
 "metadata": {
  "kernelspec": {
   "display_name": "Python 3",
   "language": "python",
   "name": "python3"
  },
  "language_info": {
   "codemirror_mode": {
    "name": "ipython",
    "version": 3
   },
   "file_extension": ".py",
   "mimetype": "text/x-python",
   "name": "python",
   "nbconvert_exporter": "python",
   "pygments_lexer": "ipython3",
   "version": "3.8.5"
  }
 },
 "nbformat": 4,
 "nbformat_minor": 4
}

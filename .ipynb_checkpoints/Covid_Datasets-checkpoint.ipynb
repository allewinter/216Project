{
 "cells": [
  {
   "cell_type": "code",
   "execution_count": 31,
   "metadata": {},
   "outputs": [
    {
     "name": "stdout",
     "output_type": "stream",
     "text": [
      "Day\n",
      "2021-03-27          NaN\n",
      "2021-03-28    1889759.0\n",
      "2021-03-29    1366698.0\n",
      "2021-03-30    1015167.0\n",
      "2021-03-31    1520606.0\n",
      "2021-04-01    1940205.0\n",
      "2021-04-02    2203933.0\n",
      "2021-04-03    2377075.0\n",
      "2021-04-04    1989539.0\n",
      "Name: people_vaccinated, dtype: float64\n"
     ]
    }
   ],
   "source": [
    "import pandas as pd\n",
    "import numpy as np\n",
    "sys_df = pd.read_csv(\"us-covid-19-total-people-vaccinated.csv\")\n",
    "unwanted_regions = [\"American Samoa\", \"Bureau of Prisons\", \"Dept of Defense\", \"Federated States of Micronesia\", \"Guam\", \"Long Term Care\", \"Indian Health Svc\", \"Marshall Islands\", \"Northern Mariana Islands\", \"Puerto Rico\", \"Republic of Palau\", \"Virgin Islands\", \"Veterans Health\", \"United States\"]\n",
    "clean_df = sys_df[sys_df['Entity'].isin(unwanted_regions) == False]\n",
    "clean_df.head()\n",
    "# I am thinking to first plot all 50 states for their percentage of people vaccinated over time using existing data only\n",
    "# Once I have the trajectory prediction model working then we can redo this plot except with new data that reaches to August or September\n",
    "#In order to do a national cumulative, we will need to multiply every entry by the respective state population then divide by 100.\n",
    "\n",
    "# alabama_df = clean_df.loc[clean_df['Entity'] == 'Alabama']\n",
    "# del alabama_df['Code']\n",
    "# print(alabama_df)\n",
    "\n",
    "us_pop = 332915073 #population value from macrotrends\n",
    "\n",
    "\n",
    "nt_df = clean_df.groupby('Day').sum()\n",
    "\n",
    "nt_df['percent_vaccinated'] = nt_df['people_vaccinated'] / us_pop\n",
    "\n",
    "\n",
    "ten_days = nt_df.iloc[-9:]\n",
    "\n",
    "ten_days_inc = ten_days.diff()\n",
    "\n",
    "print(ten_days_inc['people_vaccinated'])\n",
    "\n",
    "ten_day_ave = np.mean(ten_days_inc['people_vaccinated'])\n",
    "# next_day_val = nt_df.iloc[-1] + np.average()\n",
    "#     national_total_df = national_total_df.append(new_row, ignore_index=True)\n",
    "\n",
    "\n",
    "# print(national_percentage)\n",
    "# April 8th = April 7th cumulative + average over 2 weeks of daily increase\n",
    "# CI with smallest and largest increment\n",
    "\n",
    "# case_df = pd.read_csv(\"United_States_COVID-19_Cases_and_Deaths_by_State_over_Time.csv\")\n",
    "# case_df.loc[case_df['state'] == 'MT']"
   ]
  },
  {
   "cell_type": "code",
   "execution_count": null,
   "metadata": {},
   "outputs": [],
   "source": [
    "#For each day, we want national total percentage of people vaccinated\n",
    "#Entry for April 5th: (April 4th value) + average increase(past 10 days)"
   ]
  },
  {
   "cell_type": "code",
   "execution_count": null,
   "metadata": {},
   "outputs": [],
   "source": []
  }
 ],
 "metadata": {
  "kernelspec": {
   "display_name": "Python 3",
   "language": "python",
   "name": "python3"
  },
  "language_info": {
   "codemirror_mode": {
    "name": "ipython",
    "version": 3
   },
   "file_extension": ".py",
   "mimetype": "text/x-python",
   "name": "python",
   "nbconvert_exporter": "python",
   "pygments_lexer": "ipython3",
   "version": "3.8.5"
  }
 },
 "nbformat": 4,
 "nbformat_minor": 4
}

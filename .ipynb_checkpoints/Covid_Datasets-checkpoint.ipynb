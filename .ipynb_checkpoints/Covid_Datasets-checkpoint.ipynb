{
 "cells": [
  {
   "cell_type": "code",
   "execution_count": 39,
   "metadata": {},
   "outputs": [
    {
     "name": "stdout",
     "output_type": "stream",
     "text": [
      "Scenario One: reaching herd immunity assuming that all people who get vaccinated includes all the people that had Covid in the past\n"
     ]
    },
    {
     "data": {
      "text/html": [
       "<div>\n",
       "<style scoped>\n",
       "    .dataframe tbody tr th:only-of-type {\n",
       "        vertical-align: middle;\n",
       "    }\n",
       "\n",
       "    .dataframe tbody tr th {\n",
       "        vertical-align: top;\n",
       "    }\n",
       "\n",
       "    .dataframe thead th {\n",
       "        text-align: right;\n",
       "    }\n",
       "</style>\n",
       "<table border=\"1\" class=\"dataframe\">\n",
       "  <thead>\n",
       "    <tr style=\"text-align: right;\">\n",
       "      <th></th>\n",
       "      <th>Day</th>\n",
       "      <th>people_vaccinated</th>\n",
       "      <th>percent_vaccinated</th>\n",
       "    </tr>\n",
       "  </thead>\n",
       "  <tbody>\n",
       "    <tr>\n",
       "      <th>193</th>\n",
       "      <td>2021-07-28</td>\n",
       "      <td>3.254037e+08</td>\n",
       "      <td>0.977438</td>\n",
       "    </tr>\n",
       "    <tr>\n",
       "      <th>194</th>\n",
       "      <td>2021-07-29</td>\n",
       "      <td>3.273268e+08</td>\n",
       "      <td>0.983214</td>\n",
       "    </tr>\n",
       "    <tr>\n",
       "      <th>195</th>\n",
       "      <td>2021-07-30</td>\n",
       "      <td>3.292499e+08</td>\n",
       "      <td>0.988991</td>\n",
       "    </tr>\n",
       "    <tr>\n",
       "      <th>196</th>\n",
       "      <td>2021-07-31</td>\n",
       "      <td>3.311730e+08</td>\n",
       "      <td>0.994767</td>\n",
       "    </tr>\n",
       "    <tr>\n",
       "      <th>197</th>\n",
       "      <td>2021-08-01</td>\n",
       "      <td>3.330961e+08</td>\n",
       "      <td>1.000544</td>\n",
       "    </tr>\n",
       "  </tbody>\n",
       "</table>\n",
       "</div>"
      ],
      "text/plain": [
       "            Day  people_vaccinated  percent_vaccinated\n",
       "193  2021-07-28       3.254037e+08            0.977438\n",
       "194  2021-07-29       3.273268e+08            0.983214\n",
       "195  2021-07-30       3.292499e+08            0.988991\n",
       "196  2021-07-31       3.311730e+08            0.994767\n",
       "197  2021-08-01       3.330961e+08            1.000544"
      ]
     },
     "execution_count": 39,
     "metadata": {},
     "output_type": "execute_result"
    }
   ],
   "source": [
    "import pandas as pd\n",
    "import numpy as np\n",
    "sys_df = pd.read_csv(\"us-covid-19-total-people-vaccinated.csv\")\n",
    "unwanted_regions = [\"American Samoa\", \"Bureau of Prisons\", \"Dept of Defense\", \"Federated States of Micronesia\", \"Guam\", \"Long Term Care\", \"Indian Health Svc\", \"Marshall Islands\", \"Northern Mariana Islands\", \"Puerto Rico\", \"Republic of Palau\", \"Virgin Islands\", \"Veterans Health\", \"United States\"]\n",
    "clean_df = sys_df[sys_df['Entity'].isin(unwanted_regions) == False]\n",
    "# I am thinking to first plot all 50 states for their percentage of people vaccinated over time using existing data only\n",
    "# Once I have the trajectory prediction model working then we can redo this plot except with new data that reaches to August or September\n",
    "#In order to do a national cumulative, we will need to multiply every entry by the respective state population then divide by 100.\n",
    "\n",
    "print(\"Scenario One: reaching herd immunity assuming that all people who get vaccinated includes all the people that had Covid in the past\")\n",
    "\n",
    "us_pop = 332915073 #population value from macrotrends\n",
    "\n",
    "nt_df = clean_df.groupby('Day').sum()\n",
    "\n",
    "nt_df = nt_df.reset_index()\n",
    "\n",
    "nt_df_og_tail = nt_df.tail()\n",
    "\n",
    "while nt_df.iloc[-1]['people_vaccinated'] < us_pop: \n",
    "    ten_days = nt_df.iloc[-9:]['people_vaccinated']\n",
    "\n",
    "    ten_days_inc = ten_days.diff()\n",
    "\n",
    "    ten_day_ave = np.mean(ten_days_inc)\n",
    "\n",
    "    next_day_val = nt_df.iloc[-1]['people_vaccinated'] + ten_day_ave\n",
    "\n",
    "    next_day_date = (pd.to_datetime(nt_df.iloc[-1]['Day']) + pd.to_timedelta(np.ceil(1), unit=\"D\")).date()\n",
    "\n",
    "    nt_df = nt_df.append({'Day': str(next_day_date), 'people_vaccinated': next_day_val}, ignore_index=True)\n",
    "\n",
    "nt_df['percent_vaccinated'] = nt_df['people_vaccinated'] / us_pop\n",
    "\n",
    "nt_df.tail()\n",
    "\n",
    "\n",
    "#Possibly add CI with smallest and largest increments in future scenarios\""
   ]
  },
  {
   "cell_type": "code",
   "execution_count": 31,
   "metadata": {},
   "outputs": [
    {
     "name": "stdout",
     "output_type": "stream",
     "text": [
      "Looking at scenario one's dataset predictions, we can see that the country reaches 100% herd immunity on August 1st, 2021\n"
     ]
    }
   ],
   "source": [
    "print(\"Looking at scenario one's dataset predictions, we can see that the country reaches 100% herd immunity on August 1st, 2021\")"
   ]
  },
  {
   "cell_type": "code",
   "execution_count": 32,
   "metadata": {},
   "outputs": [],
   "source": [
    "#Data Setup\n",
    "#people_vac_df: holds data for total people vaccinated in US from 2021-01-12 to 2021-04-04\n",
    "#people_case_df: holds data for total people with covid in US from 2020-01-22 to 2021-04-09\n",
    "\n",
    "#step 1: get both dataframes to line up on dates by slicing people_case_df to become 2021-01-12 to 2021-04-04\n",
    "#step 2: create new dataframe holding data from both dataframes\n",
    "#step 3: create new column that does people_vaccinated + .2 * people_with_covid for every row\n",
    "#step 4: run predictions on this new combined column for more accurate prediction"
   ]
  },
  {
   "cell_type": "code",
   "execution_count": 33,
   "metadata": {},
   "outputs": [
    {
     "name": "stdout",
     "output_type": "stream",
     "text": [
      "Scenario Two: reaching herd immunity assuming that 20% of people vaccinated had Covid\n"
     ]
    },
    {
     "data": {
      "text/html": [
       "<div>\n",
       "<style scoped>\n",
       "    .dataframe tbody tr th:only-of-type {\n",
       "        vertical-align: middle;\n",
       "    }\n",
       "\n",
       "    .dataframe tbody tr th {\n",
       "        vertical-align: top;\n",
       "    }\n",
       "\n",
       "    .dataframe thead th {\n",
       "        text-align: right;\n",
       "    }\n",
       "</style>\n",
       "<table border=\"1\" class=\"dataframe\">\n",
       "  <thead>\n",
       "    <tr style=\"text-align: right;\">\n",
       "      <th></th>\n",
       "      <th>Day</th>\n",
       "      <th>adjusted_vax</th>\n",
       "      <th>percent_vaccinated</th>\n",
       "    </tr>\n",
       "  </thead>\n",
       "  <tbody>\n",
       "    <tr>\n",
       "      <th>189</th>\n",
       "      <td>2021-07-24</td>\n",
       "      <td>3.251885e+08</td>\n",
       "      <td>0.976791</td>\n",
       "    </tr>\n",
       "    <tr>\n",
       "      <th>190</th>\n",
       "      <td>2021-07-25</td>\n",
       "      <td>3.271240e+08</td>\n",
       "      <td>0.982605</td>\n",
       "    </tr>\n",
       "    <tr>\n",
       "      <th>191</th>\n",
       "      <td>2021-07-26</td>\n",
       "      <td>3.290594e+08</td>\n",
       "      <td>0.988418</td>\n",
       "    </tr>\n",
       "    <tr>\n",
       "      <th>192</th>\n",
       "      <td>2021-07-27</td>\n",
       "      <td>3.309948e+08</td>\n",
       "      <td>0.994232</td>\n",
       "    </tr>\n",
       "    <tr>\n",
       "      <th>193</th>\n",
       "      <td>2021-07-28</td>\n",
       "      <td>3.329302e+08</td>\n",
       "      <td>1.000046</td>\n",
       "    </tr>\n",
       "  </tbody>\n",
       "</table>\n",
       "</div>"
      ],
      "text/plain": [
       "            Day  adjusted_vax  percent_vaccinated\n",
       "189  2021-07-24  3.251885e+08            0.976791\n",
       "190  2021-07-25  3.271240e+08            0.982605\n",
       "191  2021-07-26  3.290594e+08            0.988418\n",
       "192  2021-07-27  3.309948e+08            0.994232\n",
       "193  2021-07-28  3.329302e+08            1.000046"
      ]
     },
     "execution_count": 33,
     "metadata": {},
     "output_type": "execute_result"
    }
   ],
   "source": [
    "print(\"Scenario Two: reaching herd immunity assuming that 20% of people vaccinated had Covid\")\n",
    "\n",
    "us_pop = 332915073 #population value from macrotrends\n",
    "\n",
    "covid_cases = pd.read_csv('United_States_COVID-19_Cases_and_Deaths_by_State_over_Time.csv')\n",
    "sys_df = pd.read_csv(\"us-covid-19-total-people-vaccinated.csv\")\n",
    "unwanted_regions = [\"American Samoa\", \"Bureau of Prisons\", \"Dept of Defense\", \"Federated States of Micronesia\", \"Guam\", \"Long Term Care\", \"Indian Health Svc\", \"Marshall Islands\", \"Northern Mariana Islands\", \"Puerto Rico\", \"Republic of Palau\", \"Virgin Islands\", \"Veterans Health\", \"United States\"]\n",
    "clean_df = sys_df[sys_df['Entity'].isin(unwanted_regions) == False]\n",
    "\n",
    "total_cases = covid_cases.groupby('submission_date').sum()\n",
    "total_cases = total_cases.reset_index()\n",
    "total_cases['submission_date'] = pd.to_datetime(total_cases['submission_date'])\n",
    "total_cases = total_cases.sort_values(by=\"submission_date\")\n",
    "\n",
    "start_date = '2021-01-12'\n",
    "end_date = '2021-04-04'\n",
    "mask = (total_cases['submission_date'] >= start_date) & (total_cases['submission_date'] <= end_date)\n",
    "total_cases_df = total_cases[(total_cases['submission_date'] >= start_date) & (total_cases['submission_date'] <= end_date)]\n",
    "\n",
    "total_cases_df = total_cases_df.rename(columns={\"submission_date\": \"Day\"})\n",
    "\n",
    "# total_cases_df.head()\n",
    "\n",
    "\n",
    "total_vax = clean_df.groupby('Day').sum()\n",
    "\n",
    "total_vax = total_vax.reset_index()\n",
    "\n",
    "total_vax['Day'] = pd.to_datetime(total_vax['Day'])\n",
    "\n",
    "combined_df = total_vax.merge(total_cases_df, on='Day')\n",
    "\n",
    "combined_df = combined_df.sort_values(by=\"Day\")\n",
    "\n",
    "combined_df['adjusted_vax'] = combined_df['people_vaccinated'] + .2 * combined_df['tot_cases']\n",
    "\n",
    "combined_df = combined_df[['Day','adjusted_vax']]\n",
    "\n",
    "combined_df.tail()\n",
    "\n",
    "\n",
    "while combined_df.iloc[-1]['adjusted_vax'] < us_pop: \n",
    "    ten_days = combined_df.iloc[-9:]['adjusted_vax']\n",
    "\n",
    "    ten_days_inc = ten_days.diff()\n",
    "\n",
    "    ten_day_ave = np.mean(ten_days_inc)\n",
    "\n",
    "    next_day_val = combined_df.iloc[-1]['adjusted_vax'] + ten_day_ave\n",
    "\n",
    "    next_day_date = (pd.to_datetime(combined_df.iloc[-1]['Day']) + pd.to_timedelta(np.ceil(1), unit=\"D\")).date()\n",
    "        \n",
    "    combined_df = combined_df.append({'Day': next_day_date, 'adjusted_vax': next_day_val}, ignore_index=True)\n",
    "\n",
    "combined_df['percent_vaccinated'] = combined_df['adjusted_vax'] / us_pop\n",
    "\n",
    "combined_df.tail()\n",
    "\n"
   ]
  },
  {
   "cell_type": "code",
   "execution_count": 34,
   "metadata": {},
   "outputs": [
    {
     "name": "stdout",
     "output_type": "stream",
     "text": [
      "Looking at scenario two's dataset predictions, we can see that the country reaches 100% herd immunity on July 28th, 2021\n"
     ]
    }
   ],
   "source": [
    "print(\"Looking at scenario two's dataset predictions, we can see that the country reaches 100% herd immunity on July 28th, 2021\")"
   ]
  },
  {
   "cell_type": "code",
   "execution_count": 40,
   "metadata": {},
   "outputs": [
    {
     "data": {
      "text/html": [
       "<div>\n",
       "<style scoped>\n",
       "    .dataframe tbody tr th:only-of-type {\n",
       "        vertical-align: middle;\n",
       "    }\n",
       "\n",
       "    .dataframe tbody tr th {\n",
       "        vertical-align: top;\n",
       "    }\n",
       "\n",
       "    .dataframe thead th {\n",
       "        text-align: right;\n",
       "    }\n",
       "</style>\n",
       "<table border=\"1\" class=\"dataframe\">\n",
       "  <thead>\n",
       "    <tr style=\"text-align: right;\">\n",
       "      <th></th>\n",
       "      <th>Day</th>\n",
       "      <th>people_vaccinated</th>\n",
       "      <th>percent_vaccinated</th>\n",
       "    </tr>\n",
       "  </thead>\n",
       "  <tbody>\n",
       "    <tr>\n",
       "      <th>0</th>\n",
       "      <td>2021-01-12</td>\n",
       "      <td>6.973812e+06</td>\n",
       "      <td>0.020948</td>\n",
       "    </tr>\n",
       "    <tr>\n",
       "      <th>1</th>\n",
       "      <td>2021-01-13</td>\n",
       "      <td>7.561180e+06</td>\n",
       "      <td>0.022712</td>\n",
       "    </tr>\n",
       "    <tr>\n",
       "      <th>2</th>\n",
       "      <td>2021-01-14</td>\n",
       "      <td>9.101385e+06</td>\n",
       "      <td>0.027338</td>\n",
       "    </tr>\n",
       "    <tr>\n",
       "      <th>3</th>\n",
       "      <td>2021-01-15</td>\n",
       "      <td>9.942410e+06</td>\n",
       "      <td>0.029865</td>\n",
       "    </tr>\n",
       "    <tr>\n",
       "      <th>4</th>\n",
       "      <td>2021-01-19</td>\n",
       "      <td>1.276321e+07</td>\n",
       "      <td>0.038338</td>\n",
       "    </tr>\n",
       "    <tr>\n",
       "      <th>...</th>\n",
       "      <td>...</td>\n",
       "      <td>...</td>\n",
       "      <td>...</td>\n",
       "    </tr>\n",
       "    <tr>\n",
       "      <th>193</th>\n",
       "      <td>2021-07-28</td>\n",
       "      <td>3.254037e+08</td>\n",
       "      <td>0.977438</td>\n",
       "    </tr>\n",
       "    <tr>\n",
       "      <th>194</th>\n",
       "      <td>2021-07-29</td>\n",
       "      <td>3.273268e+08</td>\n",
       "      <td>0.983214</td>\n",
       "    </tr>\n",
       "    <tr>\n",
       "      <th>195</th>\n",
       "      <td>2021-07-30</td>\n",
       "      <td>3.292499e+08</td>\n",
       "      <td>0.988991</td>\n",
       "    </tr>\n",
       "    <tr>\n",
       "      <th>196</th>\n",
       "      <td>2021-07-31</td>\n",
       "      <td>3.311730e+08</td>\n",
       "      <td>0.994767</td>\n",
       "    </tr>\n",
       "    <tr>\n",
       "      <th>197</th>\n",
       "      <td>2021-08-01</td>\n",
       "      <td>3.330961e+08</td>\n",
       "      <td>1.000544</td>\n",
       "    </tr>\n",
       "  </tbody>\n",
       "</table>\n",
       "<p>198 rows × 3 columns</p>\n",
       "</div>"
      ],
      "text/plain": [
       "            Day  people_vaccinated  percent_vaccinated\n",
       "0    2021-01-12       6.973812e+06            0.020948\n",
       "1    2021-01-13       7.561180e+06            0.022712\n",
       "2    2021-01-14       9.101385e+06            0.027338\n",
       "3    2021-01-15       9.942410e+06            0.029865\n",
       "4    2021-01-19       1.276321e+07            0.038338\n",
       "..          ...                ...                 ...\n",
       "193  2021-07-28       3.254037e+08            0.977438\n",
       "194  2021-07-29       3.273268e+08            0.983214\n",
       "195  2021-07-30       3.292499e+08            0.988991\n",
       "196  2021-07-31       3.311730e+08            0.994767\n",
       "197  2021-08-01       3.330961e+08            1.000544\n",
       "\n",
       "[198 rows x 3 columns]"
      ]
     },
     "execution_count": 40,
     "metadata": {},
     "output_type": "execute_result"
    }
   ],
   "source": [
    "nt_df"
   ]
  },
  {
   "cell_type": "code",
   "execution_count": 44,
   "metadata": {
    "scrolled": true
   },
   "outputs": [
    {
     "data": {
      "text/plain": [
       "[Text(0.5, 1.0, 'Projections of percent vaccinated versus day for US assuming 20% of vaccinated got COVID'),\n",
       " Text(0, 0.5, 'Percent Vaccinated')]"
      ]
     },
     "execution_count": 44,
     "metadata": {},
     "output_type": "execute_result"
    },
    {
     "data": {
      "image/png": "[encoded data removed]",
      "text/plain": [
       "<Figure size 432x288 with 1 Axes>"
      ]
     },
     "metadata": {
      "needs_background": "light"
     },
     "output_type": "display_data"
    }
   ],
   "source": [
    "import seaborn as sns, datetime \n",
    "\n",
    "nt_df['Day']= pd.to_datetime(nt_df['Day'])\n",
    "sns.lineplot(x=\"Day\", y=\"percent_vaccinated\", data = nt_df).set(title=\"Projections of percent vaccinated versus day for US assuming 20% of vaccinated got COVID\", ylabel=\"Percent Vaccinated\")"
   ]
  },
  {
   "cell_type": "code",
   "execution_count": 42,
   "metadata": {},
   "outputs": [
    {
     "data": {
      "text/plain": [
       "[Text(0.5, 1.0, 'Projections of percent vaccinated versus day for US'),\n",
       " Text(0, 0.5, 'Percent Vaccinated')]"
      ]
     },
     "execution_count": 42,
     "metadata": {},
     "output_type": "execute_result"
    },
    {
     "data": {
      "image/png": "[encoded data removed]",
      "text/plain": [
       "<Figure size 432x288 with 1 Axes>"
      ]
     },
     "metadata": {
      "needs_background": "light"
     },
     "output_type": "display_data"
    }
   ],
   "source": [
    "\n",
    "sns.lineplot(x=\"Day\", y=\"percent_vaccinated\", data = combined_df).set(title=\"Projections of percent vaccinated versus day for US\", ylabel=\"Percent Vaccinated\")"
   ]
  },
  {
   "cell_type": "code",
   "execution_count": null,
   "metadata": {},
   "outputs": [],
   "source": []
  }
 ],
 "metadata": {
  "kernelspec": {
   "display_name": "Python 3",
   "language": "python",
   "name": "python3"
  },
  "language_info": {
   "codemirror_mode": {
    "name": "ipython",
    "version": 3
   },
   "file_extension": ".py",
   "mimetype": "text/x-python",
   "name": "python",
   "nbconvert_exporter": "python",
   "pygments_lexer": "ipython3",
   "version": "3.8.5"
  }
 },
 "nbformat": 4,
 "nbformat_minor": 4
}

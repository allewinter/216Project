{
 "cells": [
  {
   "cell_type": "code",
   "execution_count": 60,
   "metadata": {},
   "outputs": [
    {
     "name": "stdout",
     "output_type": "stream",
     "text": [
      "           Day  people_vaccinated\n",
      "74  2021-03-31           96016711\n",
      "75  2021-04-01           97956916\n",
      "76  2021-04-02          100160849\n",
      "77  2021-04-03          102537924\n",
      "78  2021-04-04          104527463\n"
     ]
    },
    {
     "data": {
      "text/html": [
       "<div>\n",
       "<style scoped>\n",
       "    .dataframe tbody tr th:only-of-type {\n",
       "        vertical-align: middle;\n",
       "    }\n",
       "\n",
       "    .dataframe tbody tr th {\n",
       "        vertical-align: top;\n",
       "    }\n",
       "\n",
       "    .dataframe thead th {\n",
       "        text-align: right;\n",
       "    }\n",
       "</style>\n",
       "<table border=\"1\" class=\"dataframe\">\n",
       "  <thead>\n",
       "    <tr style=\"text-align: right;\">\n",
       "      <th></th>\n",
       "      <th>Day</th>\n",
       "      <th>people_vaccinated</th>\n",
       "    </tr>\n",
       "  </thead>\n",
       "  <tbody>\n",
       "    <tr>\n",
       "      <th>79</th>\n",
       "      <td>2021-04-05</td>\n",
       "      <td>1.063153e+08</td>\n",
       "    </tr>\n",
       "    <tr>\n",
       "      <th>80</th>\n",
       "      <td>2021-04-06</td>\n",
       "      <td>1.080905e+08</td>\n",
       "    </tr>\n",
       "    <tr>\n",
       "      <th>81</th>\n",
       "      <td>2021-04-07</td>\n",
       "      <td>1.099167e+08</td>\n",
       "    </tr>\n",
       "    <tr>\n",
       "      <th>82</th>\n",
       "      <td>2021-04-08</td>\n",
       "      <td>1.118442e+08</td>\n",
       "    </tr>\n",
       "    <tr>\n",
       "      <th>83</th>\n",
       "      <td>2021-04-09</td>\n",
       "      <td>1.138227e+08</td>\n",
       "    </tr>\n",
       "  </tbody>\n",
       "</table>\n",
       "</div>"
      ],
      "text/plain": [
       "           Day  people_vaccinated\n",
       "79  2021-04-05       1.063153e+08\n",
       "80  2021-04-06       1.080905e+08\n",
       "81  2021-04-07       1.099167e+08\n",
       "82  2021-04-08       1.118442e+08\n",
       "83  2021-04-09       1.138227e+08"
      ]
     },
     "execution_count": 60,
     "metadata": {},
     "output_type": "execute_result"
    }
   ],
   "source": [
    "import pandas as pd\n",
    "import numpy as np\n",
    "sys_df = pd.read_csv(\"us-covid-19-total-people-vaccinated.csv\")\n",
    "unwanted_regions = [\"American Samoa\", \"Bureau of Prisons\", \"Dept of Defense\", \"Federated States of Micronesia\", \"Guam\", \"Long Term Care\", \"Indian Health Svc\", \"Marshall Islands\", \"Northern Mariana Islands\", \"Puerto Rico\", \"Republic of Palau\", \"Virgin Islands\", \"Veterans Health\", \"United States\"]\n",
    "clean_df = sys_df[sys_df['Entity'].isin(unwanted_regions) == False]\n",
    "clean_df.head()\n",
    "# I am thinking to first plot all 50 states for their percentage of people vaccinated over time using existing data only\n",
    "# Once I have the trajectory prediction model working then we can redo this plot except with new data that reaches to August or September\n",
    "#In order to do a national cumulative, we will need to multiply every entry by the respective state population then divide by 100.\n",
    "\n",
    "# alabama_df = clean_df.loc[clean_df['Entity'] == 'Alabama']\n",
    "# del alabama_df['Code']\n",
    "# print(alabama_df)\n",
    "\n",
    "us_pop = 332915073 #population value from macrotrends\n",
    "\n",
    "\n",
    "nt_df = clean_df.groupby('Day').sum()\n",
    "\n",
    "nt_df = nt_df.reset_index()\n",
    "\n",
    "nt_df_og_tail = nt_df.tail()\n",
    "# nt_df['percent_vaccinated'] = nt_df['people_vaccinated'] / us_pop\n",
    "\n",
    "for i in range(5): \n",
    "    ten_days = nt_df.iloc[-9:]['people_vaccinated']\n",
    "\n",
    "    ten_days_inc = ten_days.diff()\n",
    "\n",
    "    ten_day_ave = np.mean(ten_days_inc)\n",
    "\n",
    "    next_day_val = nt_df.iloc[-1]['people_vaccinated'] + ten_day_ave\n",
    "\n",
    "    next_day_date = (pd.to_datetime(nt_df.iloc[-1]['Day']) + pd.to_timedelta(np.ceil(1), unit=\"D\")).date()\n",
    "\n",
    "    nt_df = nt_df.append({'Day': next_day_date, 'people_vaccinated': next_day_val}, ignore_index=True)\n",
    "\n",
    "print(nt_df_og_tail)\n",
    "\n",
    "nt_df.tail()    \n",
    "# April 8th = April 7th cumulative + average over 2 weeks of daily increase\n",
    "# CI with smallest and largest increment\n",
    "\n",
    "# case_df = pd.read_csv(\"United_States_COVID-19_Cases_and_Deaths_by_State_over_Time.csv\")\n",
    "# case_df.loc[case_df['state'] == 'MT']"
   ]
  },
  {
   "cell_type": "code",
   "execution_count": null,
   "metadata": {},
   "outputs": [],
   "source": [
    "#For each day, we want national total percentage of people vaccinated\n",
    "#Entry for April 5th: (April 4th value) + average increase(past 10 days)"
   ]
  },
  {
   "cell_type": "code",
   "execution_count": null,
   "metadata": {},
   "outputs": [],
   "source": []
  }
 ],
 "metadata": {
  "kernelspec": {
   "display_name": "Python 3",
   "language": "python",
   "name": "python3"
  },
  "language_info": {
   "codemirror_mode": {
    "name": "ipython",
    "version": 3
   },
   "file_extension": ".py",
   "mimetype": "text/x-python",
   "name": "python",
   "nbconvert_exporter": "python",
   "pygments_lexer": "ipython3",
   "version": "3.8.5"
  }
 },
 "nbformat": 4,
 "nbformat_minor": 4
}
